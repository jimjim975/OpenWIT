{
  "nbformat": 4,
  "nbformat_minor": 0,
  "metadata": {
    "colab": {
      "name": "OpenWIT.ipynb",
      "provenance": [],
      "collapsed_sections": []
    },
    "kernelspec": {
      "name": "python3",
      "display_name": "Python 3"
    },
    "language_info": {
      "name": "python"
    }
  },
  "cells": [
    {
      "cell_type": "code",
      "metadata": {
        "colab": {
          "base_uri": "https://localhost:8080/"
        },
        "id": "z-hkfsrh0XNg",
        "outputId": "5b13e3e5-fe75-4e40-c2f9-2ebbea9bf03d"
      },
      "source": [
        "!java -version\n",
        " \n",
        "#Install Spark\n",
        "#download file\n",
        "!wget -q http://apache.osuosl.org/spark/spark-3.1.2/spark-3.1.2-bin-hadoop3.2.tgz\n",
        "#extract the file\n",
        "!tar xf spark-3.1.2-bin-hadoop3.2.tgz\n",
        "#install findspark package\n",
        "!pip install -q findspark\n",
        " \n",
        "import os\n",
        "os.environ[\"SPARK_HOME\"] = \"/content/spark-3.1.2-bin-hadoop3.2\"\n",
        "def install_java():\n",
        "  !pip install pyodbc\n",
        "  !apt-get install -y openjdk-8-jdk-headless -qq > /dev/null      #install openjdk\n",
        "  os.environ[\"JAVA_HOME\"] = \"/usr/lib/jvm/java-8-openjdk-amd64\"     #set environment variable\n",
        "  !java -version       #check java version\n",
        "install_java()\n",
        " \n",
        "!curl https://packages.microsoft.com/keys/microsoft.asc | apt-key add -\n",
        " \n",
        "#Download appropriate package for the OS version\n",
        "#Choose only ONE of the following, corresponding to your OS version\n",
        " \n",
        "#Ubuntu 18.04\n",
        "!curl https://packages.microsoft.com/config/ubuntu/18.04/prod.list > /etc/apt/sources.list.d/mssql-release.list\n",
        " \n",
        " \n",
        " \n",
        "!apt-get update\n",
        "!ACCEPT_EULA=Y apt-get install -y msodbcsql17\n",
        "# optional: for bcp and sqlcmd\n",
        "!ACCEPT_EULA=Y apt-get install -y mssql-tools\n",
        "!echo 'export PATH=\"$PATH:/opt/mssql-tools/bin\"' >> ~/.bashrc\n",
        "!source ~/.bashrc\n",
        "# optional: for unixODBC development h"
      ],
      "execution_count": null,
      "outputs": [
        {
          "output_type": "stream",
          "text": [
            "openjdk version \"11.0.11\" 2021-04-20\n",
            "OpenJDK Runtime Environment (build 11.0.11+9-Ubuntu-0ubuntu2.18.04)\n",
            "OpenJDK 64-Bit Server VM (build 11.0.11+9-Ubuntu-0ubuntu2.18.04, mixed mode, sharing)\n",
            "Collecting pyodbc\n",
            "  Downloading pyodbc-4.0.31.tar.gz (280 kB)\n",
            "\u001b[K     |████████████████████████████████| 280 kB 5.0 MB/s \n",
            "\u001b[?25hBuilding wheels for collected packages: pyodbc\n",
            "  Building wheel for pyodbc (setup.py) ... \u001b[?25l\u001b[?25hdone\n",
            "  Created wheel for pyodbc: filename=pyodbc-4.0.31-cp37-cp37m-linux_x86_64.whl size=286824 sha256=578826c2b2aad0e4769b203324c5274d605a23e4090822ebfcff43d0aaf588da\n",
            "  Stored in directory: /root/.cache/pip/wheels/b6/90/83/0d14028dd261d703154631f91543fbadae0e5e7247501489d9\n",
            "Successfully built pyodbc\n",
            "Installing collected packages: pyodbc\n",
            "Successfully installed pyodbc-4.0.31\n",
            "openjdk version \"11.0.11\" 2021-04-20\n",
            "OpenJDK Runtime Environment (build 11.0.11+9-Ubuntu-0ubuntu2.18.04)\n",
            "OpenJDK 64-Bit Server VM (build 11.0.11+9-Ubuntu-0ubuntu2.18.04, mixed mode, sharing)\n",
            "  % Total    % Received % Xferd  Average Speed   Time    Time     Time  Current\n",
            "                                 Dload  Upload   Total   Spent    Left  Speed\n",
            "100   983  100   983    0     0   5921      0 --:--:-- --:--:-- --:--:--  5921\n",
            "OK\n",
            "  % Total    % Received % Xferd  Average Speed   Time    Time     Time  Current\n",
            "                                 Dload  Upload   Total   Spent    Left  Speed\n",
            "100    77  100    77    0     0    777      0 --:--:-- --:--:-- --:--:--   770\n",
            "Get:1 http://security.ubuntu.com/ubuntu bionic-security InRelease [88.7 kB]\n",
            "Get:2 https://cloud.r-project.org/bin/linux/ubuntu bionic-cran40/ InRelease [3,626 B]\n",
            "Get:3 https://packages.microsoft.com/ubuntu/18.04/prod bionic InRelease [4,003 B]\n",
            "Ign:4 https://developer.download.nvidia.com/compute/cuda/repos/ubuntu1804/x86_64  InRelease\n",
            "Hit:5 http://archive.ubuntu.com/ubuntu bionic InRelease\n",
            "Ign:6 https://developer.download.nvidia.com/compute/machine-learning/repos/ubuntu1804/x86_64  InRelease\n",
            "Get:7 http://ppa.launchpad.net/c2d4u.team/c2d4u4.0+/ubuntu bionic InRelease [15.9 kB]\n",
            "Get:8 https://developer.download.nvidia.com/compute/cuda/repos/ubuntu1804/x86_64  Release [697 B]\n",
            "Hit:9 https://developer.download.nvidia.com/compute/machine-learning/repos/ubuntu1804/x86_64  Release\n",
            "Get:10 https://developer.download.nvidia.com/compute/cuda/repos/ubuntu1804/x86_64  Release.gpg [836 B]\n",
            "Get:11 http://archive.ubuntu.com/ubuntu bionic-updates InRelease [88.7 kB]\n",
            "Hit:12 http://ppa.launchpad.net/cran/libgit2/ubuntu bionic InRelease\n",
            "Get:13 https://packages.microsoft.com/ubuntu/18.04/prod bionic/main amd64 Packages [217 kB]\n",
            "Get:14 http://archive.ubuntu.com/ubuntu bionic-backports InRelease [74.6 kB]\n",
            "Hit:15 http://ppa.launchpad.net/deadsnakes/ppa/ubuntu bionic InRelease\n",
            "Get:16 http://security.ubuntu.com/ubuntu bionic-security/multiverse amd64 Packages [31.5 kB]\n",
            "Get:17 http://ppa.launchpad.net/graphics-drivers/ppa/ubuntu bionic InRelease [21.3 kB]\n",
            "Get:18 http://security.ubuntu.com/ubuntu bionic-security/restricted amd64 Packages [500 kB]\n",
            "Get:19 http://security.ubuntu.com/ubuntu bionic-security/main amd64 Packages [2,257 kB]\n",
            "Get:20 http://security.ubuntu.com/ubuntu bionic-security/universe amd64 Packages [1,420 kB]\n",
            "Ign:22 https://developer.download.nvidia.com/compute/cuda/repos/ubuntu1804/x86_64  Packages\n",
            "Get:22 https://developer.download.nvidia.com/compute/cuda/repos/ubuntu1804/x86_64  Packages [679 kB]\n",
            "Get:23 http://ppa.launchpad.net/c2d4u.team/c2d4u4.0+/ubuntu bionic/main Sources [1,785 kB]\n",
            "Get:24 http://archive.ubuntu.com/ubuntu bionic-updates/main amd64 Packages [2,693 kB]\n",
            "Get:25 http://ppa.launchpad.net/c2d4u.team/c2d4u4.0+/ubuntu bionic/main amd64 Packages [913 kB]\n",
            "Get:26 http://archive.ubuntu.com/ubuntu bionic-updates/restricted amd64 Packages [533 kB]\n",
            "Get:27 http://archive.ubuntu.com/ubuntu bionic-updates/multiverse amd64 Packages [38.7 kB]\n",
            "Get:28 http://archive.ubuntu.com/ubuntu bionic-updates/universe amd64 Packages [2,190 kB]\n",
            "Get:29 http://ppa.launchpad.net/graphics-drivers/ppa/ubuntu bionic/main amd64 Packages [44.1 kB]\n",
            "Fetched 13.6 MB in 4s (3,486 kB/s)\n",
            "Reading package lists... Done\n",
            "Reading package lists... Done\n",
            "Building dependency tree       \n",
            "Reading state information... Done\n",
            "The following additional packages will be installed:\n",
            "  libodbc1 odbcinst odbcinst1debian2 unixodbc unixodbc-dev\n",
            "Suggested packages:\n",
            "  unixodbc-bin\n",
            "The following NEW packages will be installed:\n",
            "  msodbcsql17 unixodbc\n",
            "The following packages will be upgraded:\n",
            "  libodbc1 odbcinst odbcinst1debian2 unixodbc-dev\n",
            "4 upgraded, 2 newly installed, 0 to remove and 76 not upgraded.\n",
            "Need to get 1,459 kB of archives.\n",
            "After this operation, 152 kB of additional disk space will be used.\n",
            "Get:1 https://packages.microsoft.com/ubuntu/18.04/prod bionic/main amd64 odbcinst amd64 2.3.7 [12.0 kB]\n",
            "Get:2 https://packages.microsoft.com/ubuntu/18.04/prod bionic/main amd64 unixodbc-dev amd64 2.3.7 [37.1 kB]\n",
            "Get:3 https://packages.microsoft.com/ubuntu/18.04/prod bionic/main amd64 odbcinst1debian2 amd64 2.3.7 [135 kB]\n",
            "Get:4 https://packages.microsoft.com/ubuntu/18.04/prod bionic/main amd64 libodbc1 amd64 2.3.7 [511 kB]\n",
            "Get:5 https://packages.microsoft.com/ubuntu/18.04/prod bionic/main amd64 unixodbc amd64 2.3.7 [19.6 kB]\n",
            "Get:6 https://packages.microsoft.com/ubuntu/18.04/prod bionic/main amd64 msodbcsql17 amd64 17.7.2.1-1 [745 kB]\n",
            "Fetched 1,459 kB in 0s (5,650 kB/s)\n",
            "Preconfiguring packages ...\n",
            "(Reading database ... 161180 files and directories currently installed.)\n",
            "Preparing to unpack .../0-odbcinst_2.3.7_amd64.deb ...\n",
            "Unpacking odbcinst (2.3.7) over (2.3.4-1.1ubuntu3) ...\n",
            "Preparing to unpack .../1-unixodbc-dev_2.3.7_amd64.deb ...\n",
            "Unpacking unixodbc-dev (2.3.7) over (2.3.4-1.1ubuntu3) ...\n",
            "Preparing to unpack .../2-odbcinst1debian2_2.3.7_amd64.deb ...\n",
            "Unpacking odbcinst1debian2:amd64 (2.3.7) over (2.3.4-1.1ubuntu3) ...\n",
            "Preparing to unpack .../3-libodbc1_2.3.7_amd64.deb ...\n",
            "Unpacking libodbc1:amd64 (2.3.7) over (2.3.4-1.1ubuntu3) ...\n",
            "Selecting previously unselected package unixodbc.\n",
            "Preparing to unpack .../4-unixodbc_2.3.7_amd64.deb ...\n",
            "Unpacking unixodbc (2.3.7) ...\n",
            "Selecting previously unselected package msodbcsql17.\n",
            "Preparing to unpack .../5-msodbcsql17_17.7.2.1-1_amd64.deb ...\n",
            "Unpacking msodbcsql17 (17.7.2.1-1) ...\n",
            "Setting up libodbc1:amd64 (2.3.7) ...\n",
            "Setting up odbcinst1debian2:amd64 (2.3.7) ...\n",
            "Setting up odbcinst (2.3.7) ...\n",
            "Setting up unixodbc (2.3.7) ...\n",
            "Setting up unixodbc-dev (2.3.7) ...\n",
            "Setting up msodbcsql17 (17.7.2.1-1) ...\n",
            "Processing triggers for libc-bin (2.27-3ubuntu1.2) ...\n",
            "/sbin/ldconfig.real: /usr/local/lib/python3.7/dist-packages/ideep4py/lib/libmkldnn.so.0 is not a symbolic link\n",
            "\n",
            "Processing triggers for man-db (2.8.3-2ubuntu0.1) ...\n",
            "Reading package lists... Done\n",
            "Building dependency tree       \n",
            "Reading state information... Done\n",
            "The following NEW packages will be installed:\n",
            "  mssql-tools\n",
            "0 upgraded, 1 newly installed, 0 to remove and 76 not upgraded.\n",
            "Need to get 212 kB of archives.\n",
            "After this operation, 0 B of additional disk space will be used.\n",
            "Get:1 https://packages.microsoft.com/ubuntu/18.04/prod bionic/main amd64 mssql-tools amd64 17.7.1.1-1 [212 kB]\n",
            "Fetched 212 kB in 0s (1,084 kB/s)\n",
            "Preconfiguring packages ...\n",
            "Selecting previously unselected package mssql-tools.\n",
            "(Reading database ... 161173 files and directories currently installed.)\n",
            "Preparing to unpack .../mssql-tools_17.7.1.1-1_amd64.deb ...\n",
            "Unpacking mssql-tools (17.7.1.1-1) ...\n",
            "Setting up mssql-tools (17.7.1.1-1) ...\n"
          ],
          "name": "stdout"
        }
      ]
    },
    {
      "cell_type": "code",
      "metadata": {
        "id": "R-UFLd7r0hMi",
        "colab": {
          "base_uri": "https://localhost:8080/"
        },
        "outputId": "2a610692-7a7d-4f9a-f482-f3c079d0c6a2"
      },
      "source": [
        "import findspark\n",
        "findspark.init()\n",
        "\n",
        "# create entry points to spark\n",
        "try:\n",
        "    sc.stop()\n",
        "except:\n",
        "    pass\n",
        "import pyodbc\n",
        "conn = pyodbc.connect(DRIVER = '{ODBC Driver 17 for SQL Server}',\n",
        "                      SERVER = 'azure.openwit.tech, 1433',\n",
        "                      DATABASE = 'openwitprod',\n",
        "                      UID = 'sa',\n",
        "                      PWD = '');\n",
        "cursor = conn.cursor();\n",
        "\n",
        "!echo\n",
        "\n",
        "from pyspark import SparkContext, SparkConf, SQLContext\n",
        "from pyspark.sql import SparkSession\n",
        "conf = SparkConf()\\\n",
        "                .setAppName(\"Pi\")\\\n",
        "                .setMaster(\"local[*]\")\n",
        "sc=SparkContext(conf = conf)\n",
        "sqlContext= SQLContext(sc)\n",
        "spark = SparkSession(sparkContext=sc)\n",
        "from pyspark.sql.types import *"
      ],
      "execution_count": null,
      "outputs": [
        {
          "output_type": "stream",
          "text": [
            "\n"
          ],
          "name": "stdout"
        }
      ]
    },
    {
      "cell_type": "code",
      "metadata": {
        "id": "GUSa37mb0jQ1",
        "colab": {
          "base_uri": "https://localhost:8080/"
        },
        "outputId": "e7226bd5-e255-4d3b-ebcf-84f5088185ae"
      },
      "source": [
        "#Pull from DB directly\n",
        "\n",
        "#defines schema for dataframe entries (each structfield is a different column in database)\n",
        "schema = StructType([\n",
        "    StructField('timestamp', StringType(), True),\\\n",
        "    StructField('age', StringType(), True),\\\n",
        "    StructField('gender', StringType(), True),\\\n",
        "    StructField('gradyear', StringType(), True),\\\n",
        "    StructField('major', StringType(), True),\\\n",
        "    StructField('minor', StringType(), True),\\\n",
        "    StructField('withdrawals', StringType(), True),\\\n",
        "    StructField('collegechoice', StringType(), True),\\\n",
        "    StructField('campusliving', StringType(), True),\\\n",
        "    StructField('exercise', StringType(), True),\\\n",
        "    StructField('employed', StringType(), True),\\\n",
        "    StructField('coops', StringType(), True),\\\n",
        "    StructField('extracurricular', StringType(), True),\\\n",
        "    StructField('classnum', StringType(), True),\\\n",
        "    StructField('timeoutfriends', StringType(), True),\\\n",
        "    StructField('vaccinated', StringType(), True),\\\n",
        "    StructField('classesfailed', StringType(), True),\\\n",
        "    StructField('freetime', StringType(), True),\\\n",
        "    StructField('druguse', StringType(), True),\\\n",
        "    StructField('cwentworthr', StringType(), True),\\\n",
        "    StructField('hstudying', StringType(), True),\\\n",
        "    StructField('GPA', StringType(), True),\\\n",
        "    StructField('overallexp', StringType(), True),\\\n",
        "    StructField('mentalhealth', StringType(), True),\\\n",
        "    StructField('wentresources', StringType(), True),\\\n",
        "    StructField('firstgen', StringType(), True),\\\n",
        "    StructField('terms', StringType(), True),\\\n",
        "    StructField('sleep', StringType(), True)\\\n",
        "])\n",
        "\n",
        "schemaTwo = StructType([\n",
        "    StructField('timestamp', StringType(), True),\\\n",
        "    StructField('terms', StringType(), True),\\\n",
        "    StructField('age', StringType(), True),\\\n",
        "    StructField('gender', StringType(), True),\\\n",
        "    StructField('gradyear', StringType(), True),\\\n",
        "    StructField('major', StringType(), True),\\\n",
        "    StructField('minor', StringType(), True),\\\n",
        "    StructField('withdrawals', StringType(), True),\\\n",
        "    StructField('collegechoice', StringType(), True),\\\n",
        "    StructField('firstgen', StringType(), True),\\\n",
        "    StructField('campusliving', StringType(), True),\\\n",
        "    StructField('exercise', StringType(), True),\\\n",
        "    StructField('sleep', StringType(), True),\\\n",
        "    StructField('employed', StringType(), True),\\\n",
        "    StructField('coops', StringType(), True),\\\n",
        "    StructField('extracurricular', StringType(), True),\\\n",
        "    StructField('classnum', StringType(), True),\\\n",
        "    StructField('timeoutfriends', StringType(), True),\\\n",
        "    StructField('vaccinated', StringType(), True),\\\n",
        "    StructField('classesfailed', StringType(), True),\\\n",
        "    StructField('freetime', StringType(), True),\\\n",
        "    StructField('mentalhealth', StringType(), True),\\\n",
        "    StructField('druguse', StringType(), True),\\\n",
        "    StructField('cwentworthr', StringType(), True),\\\n",
        "    StructField('hstudying', StringType(), True),\\\n",
        "    StructField('GPA', StringType(), True),\\\n",
        "    StructField('overallexp', StringType(), True),\\\n",
        "    StructField('wentresources', StringType(), True),\\\n",
        "])\n",
        "\n",
        "cursor.execute(\"select * from openwitprod.dbo.ProdTableINetNew\")\n",
        "dfreddit = cursor.fetchall();\n",
        "dfr = spark.createDataFrame((tuple(r) for r in dfreddit), schemaTwo)\n",
        "dfr.show()\n",
        "\n",
        "cursor.execute(\"select * from openwitprod.dbo.ProdTableNew\");\n",
        "df = cursor.fetchall();\n",
        "\n",
        "df2 = spark.createDataFrame((tuple(r) for r in df), schema)\n",
        "df2.show()\n",
        "\n"
      ],
      "execution_count": null,
      "outputs": [
        {
          "output_type": "stream",
          "text": [
            "+--------------------+-----+---+------+--------+--------------------+-----+-----------+-------------+--------+------------+---------+-----+------------+--------------------+---------------+--------+--------------+----------+-------------+--------+------------+-------+-----------+---------+----+----------+-------------+\n",
            "|           timestamp|terms|age|gender|gradyear|               major|minor|withdrawals|collegechoice|firstgen|campusliving| exercise|sleep|    employed|               coops|extracurricular|classnum|timeoutfriends|vaccinated|classesfailed|freetime|mentalhealth|druguse|cwentworthr|hstudying| GPA|overallexp|wentresources|\n",
            "+--------------------+-----+---+------+--------+--------------------+-----+-----------+-------------+--------+------------+---------+-----+------------+--------------------+---------------+--------+--------------+----------+-------------+--------+------------+-------+-----------+---------+----+----------+-------------+\n",
            "|Tue Jul 13 2021 1...|  Yes| 22|Female|    2023|        Data Science|   No|          1|          Yes|     Yes|   On Campus|Sometimes|  Yes|Not Employed|Haven't had them yet|            Yes|       4|             3|        No|            1|       4|           4|      0|          6|       16|3.49|         8|            7|\n",
            "|Tue Jul 13 2021 1...|  Yes| 20|Female|    2023|    Applied Sciences|   No|          0|          Yes|      No|   On Campus|Sometimes|   No|      Salary|Haven't had them yet|             No|       5|             2|        No|            0|       3|           3|      0|         10|       30|3.90|         7|            7|\n",
            "|Tue Jul 13 2021 1...|  Yes| 21|Female|    2022|  Project Management|  Yes|          0|          Yes|     Yes|   On Campus|       No|   No|      Hourly|Haven't had them yet|            Yes|       4|             2|       Yes|            0|       4|           2|      7|          6|        0|3.70|         6|            4|\n",
            "|Tue Jul 13 2021 1...|  Yes| 21|  Male|    2023|Mechanical Engine...|  Yes|          2|          Yes|      No|   On Campus|Sometimes|  Yes|      Hourly|Haven't had them yet|            Yes|       4|             2|       Yes|            0|       3|           5|      0|          8|        3|3.83|         7|            8|\n",
            "|Tue Jul 13 2021 1...|  Yes| 23|    NB|    2022| Computer Networking|   No|          4|          Yes|      No|    Commuter|      Yes|  Yes|Not Employed|                 Yes|             No|       4|             1|       Yes|            3|       4|           4|      7|          9|       20|3.50|         9|            8|\n",
            "|Tue Jul 13 2021 1...|  Yes| 21|  Male|    2021|Mechanical Engine...|  Yes|          0|          Yes|      No|    Commuter|      Yes|  Yes|      Hourly|                 Yes|             No|       4|             2|       Yes|            0|       4|           4|      6|          7|       25|3.89|         7|            5|\n",
            "|Tue Jul 13 2021 1...|  Yes| 21|  Male|    2022|Mechanical Engine...|  Yes|          1|          Yes|      No|   On Campus|      Yes|   No|Not Employed|                 Yes|            Yes|       5|             4|       Yes|            0|       2|           3|      5|          7|        6|3.87|         6|            7|\n",
            "|Tue Jul 13 2021 1...|  Yes| 23|  Male|    2021|    Computer Science|   No|          0|           No|      No|   On Campus|      Yes|  Yes|Not Employed|                 Yes|            Yes|       4|             2|       Yes|            2|       2|           1|      2|          7|       12|3.30|         6|            4|\n",
            "|Tue Jul 13 2021 1...|  Yes| 22|  Male|    2021|Mechanical Engine...|  Yes|          0|          Yes|      No|   On Campus|      Yes|   No|      Hourly|Haven't had them yet|             No|       4|             2|       Yes|            0|       4|           3|      2|          7|        2|3.80|         7|            6|\n",
            "|Tue Jul 13 2021 1...|  Yes| 19|  Male|    2023|Electrical Engine...|   No|          0|           No|      No|   On Campus|      Yes|  Yes|      Hourly|Haven't had them yet|            Yes|       4|             3|       Yes|            0|       2|           3|      1|          7|        4|3.92|         2|            3|\n",
            "|Tue Jul 13 2021 1...|  Yes| 21|  Male|    2022|Mechanical Engine...|   No|          1|          Yes|      No|    Commuter|      Yes|  Yes|Not Employed|                 Yes|            Yes|       5|             2|       Yes|            1|       2|           4|      2|          7|       15|3.84|         7|            5|\n",
            "|Tue Jul 13 2021 1...|  Yes| 42|  Male|    2022| Business Management|  Yes|          1|          Yes|      No|    Commuter|      Yes|  Yes|      Hourly|                 Yes|             No|       3|             1|       Yes|            0|       3|           2|      1|          7|       25|3.95|         7|            9|\n",
            "|Tue Jul 13 2021 1...|  Yes| 21|  Male|    2022|Mechanical Engine...|   No|          1|          Yes|      No|   On Campus|      Yes|  Yes|Not Employed|                 Yes|            Yes|       4|             3|       Yes|            0|       5|           4|      2|          5|        5|3.86|         7|            6|\n",
            "|Tue Jul 13 2021 1...|  Yes| 21|  Male|    2022|    Computer Science|   No|          0|          Yes|     Yes|    Commuter|      Yes|  Yes|      Hourly|                  No|             No|       4|             1|       Yes|            0|       2|           2|      1|          8|        6|3.20|         7|            7|\n",
            "|Tue Jul 13 2021 1...|  Yes| 28|Female|    2023|Biological Engine...|   No|          0|          Yes|      No|    Commuter|      Yes|   No|      Salary|Haven't had them yet|             No|       2|             0|       Yes|            0|       2|           2|      3|         10|       10|4.00|        10|            9|\n",
            "|Tue Jul 13 2021 1...|  Yes| 22|  Male|    2022|Mechanical Engine...|   No|          0|          Yes|      No|    Commuter|      Yes|  Yes|      Hourly|                 Yes|            Yes|       5|             2|       Yes|            0|       4|           4|      1|          7|        5|3.97|         5|            4|\n",
            "|Tue Jul 13 2021 1...|  Yes| 22|  Male|    2021| Computer Networking|   No|          1|          Yes|      No|    Commuter|Sometimes|   No|      Hourly|                 Yes|            Yes|       4|             1|       Yes|            0|       2|           3|      4|          5|        3|3.45|         7|            5|\n",
            "|Tue Jul 13 2021 1...|  Yes| 21|  Male|    2022|Engineering Techn...|   No|          0|          Yes|      No|    Commuter|Sometimes|  Yes|Not Employed|Haven't had them yet|             No|       4|             0|       Yes|            0|       4|           3|      5|          8|       10|3.50|         3|            6|\n",
            "|Tue Jul 13 2021 1...|  Yes| 23|  Male|    2021|Mechanical Engine...|   No|          1|          Yes|     Yes|   On Campus|      Yes|  Yes|Not Employed|                  No|            Yes|       5|             4|       Yes|            2|       1|           3|      7|          7|       25|2.80|         8|            7|\n",
            "|Tue Jul 13 2021 1...|  Yes| 20|Female|    2023|Biological Engine...|  Yes|          0|          Yes|     Yes|    Commuter|      Yes|   No|      Hourly|                 Yes|            Yes|       4|             1|       Yes|            2|       3|           2|      2|          5|       15|3.30|         5|            5|\n",
            "+--------------------+-----+---+------+--------+--------------------+-----+-----------+-------------+--------+------------+---------+-----+------------+--------------------+---------------+--------+--------------+----------+-------------+--------+------------+-------+-----------+---------+----+----------+-------------+\n",
            "only showing top 20 rows\n",
            "\n",
            "+--------------------+---+----------+--------+--------------------+-----+-----------+-------------+------------+---------+------------+--------------------+---------------+--------+--------------+----------+-------------+--------+-------+-----------+---------+----+----------+------------+-------------+--------+-----+-----+\n",
            "|           timestamp|age|    gender|gradyear|               major|minor|withdrawals|collegechoice|campusliving| exercise|    employed|               coops|extracurricular|classnum|timeoutfriends|vaccinated|classesfailed|freetime|druguse|cwentworthr|hstudying| GPA|overallexp|mentalhealth|wentresources|firstgen|terms|sleep|\n",
            "+--------------------+---+----------+--------+--------------------+-----+-----------+-------------+------------+---------+------------+--------------------+---------------+--------+--------------+----------+-------------+--------+-------+-----------+---------+----+----------+------------+-------------+--------+-----+-----+\n",
            "|Mon Jun 28 2021 1...| 22|      Male|    2021|    Computer Science|   No|          0|          Yes|    Commuter|Sometimes|Not Employed|                 Yes|             No|       4|             1|       Yes|            0|       4|      3|          8|        3|3.30|         7|           2|            9|     Yes|  Yes|  Yes|\n",
            "|Mon Jun 28 2021 1...| 22|    Female|    2021|Mechanical Engine...|  Yes|          0|          Yes|    Commuter|Sometimes|      Hourly|                 Yes|             No|       5|             3|       Yes|            2|       4|      2|         10|        3|3.56|         7|           4|            7|     Yes|  Yes|  Yes|\n",
            "|Mon Jun 28 2021 1...| 21|      Male|    2022|        Architecture|   No|          6|          Yes|   On Campus|Sometimes|      Hourly|                 Yes|            Yes|       4|             2|       Yes|            3|       2|      3|          2|       16|2.34|         3|           2|            3|     Yes|  Yes|   No|\n",
            "|Mon Jun 28 2021 1...| 22|      Male|    2021|Electrical Engine...|  Yes|          0|          Yes|   On Campus|      Yes|      Salary|                 Yes|            Yes|       4|             1|       Yes|            0|       2|      2|          8|        7|3.52|         7|           2|            8|      No|  Yes|   No|\n",
            "|Mon Jun 28 2021 1...| 22|    Female|    2022|   Civil Engineering|   No|          2|          Yes|    Commuter|      Yes|      Hourly|                 Yes|            Yes|       5|             1|       Yes|            1|       2|      1|          9|       30|2.50|         9|           3|           10|      No|  Yes|   No|\n",
            "|Mon Jun 28 2021 1...| 21|      Male|    2022|Mechanical Engine...|  Yes|          0|          Yes|    Commuter|      Yes|      Hourly|                 Yes|             No|       4|             3|       Yes|            0|       3|      5|          7|       20|3.30|         6|           2|            4|      No|  Yes|   No|\n",
            "|Mon Jun 28 2021 1...| 20|    Female|    2021|    Computer Science|  Yes|          0|          Yes|    Commuter|Sometimes|      Hourly|                  No|             No|       4|             2|       Yes|            0|       3|      0|          6|        5|3.92|         9|           3|            9|     Yes|  Yes|   No|\n",
            "|Mon Jun 28 2021 1...| 22|      Male|    2021|    Computer Science|  Yes|          0|          Yes|   On Campus|      Yes|      Hourly|                 Yes|            Yes|       4|             1|       Yes|            0|       4|      7|         10|        5|3.31|         8|           4|            9|      No|  Yes|   No|\n",
            "|Mon Jun 28 2021 1...| 22|      Male|    2021|Computer Informat...|  Yes|          1|          Yes|   On Campus|      Yes|      Hourly|                 Yes|            Yes|       5|             4|       Yes|            0|       3|      5|          3|        4|3.70|         8|           4|            9|     Yes|  Yes|   No|\n",
            "|Mon Jun 28 2021 1...| 22|    Female|    2021|   Industrial Design|   No|          0|          Yes|   On Campus|      Yes|      Hourly|                 Yes|             No|       4|             1|       Yes|            0|       4|      2|          8|        2|3.40|         7|           4|            7|      No|  Yes|  Yes|\n",
            "|Mon Jun 28 2021 1...| 21|      Male|    2022|    Computer Science|   No|          0|          Yes|   On Campus|       No|Not Employed|                 Yes|             No|       4|             1|       Yes|            0|       3|      0|          5|        5|3.92|         7|           4|            8|      No|  Yes|   No|\n",
            "|Mon Jun 28 2021 1...| 22|    Female|    2021|     Interior Design|   No|          0|          Yes|    Commuter|       No|Not Employed|                 Yes|             No|       4|             1|       Yes|            0|       3|      2|          9|       30|3.70|         8|           2|            6|      No|  Yes|  Yes|\n",
            "|Mon Jun 28 2021 1...| 22|    Female|    2021|     Interior Design|  Yes|          0|          Yes|    Commuter|      Yes|      Salary|                 Yes|             No|       5|             1|       Yes|            0|       3|      2|          4|       17|3.80|         7|           4|            4|      No|  Yes|   No|\n",
            "|Mon Jun 28 2021 1...| 22|      Male|    2021|    Computer Science|  Yes|          0|          Yes|    Commuter|      Yes|      Hourly|                 Yes|            Yes|       4|             2|       Yes|            0|       1|      3|          6|        0|3.25|         1|           3|            1|      No|  Yes|  Yes|\n",
            "|Mon Jun 28 2021 1...| 22|      Male|    2021|    Computer Science|   No|          2|          Yes|    Commuter|Sometimes|      Hourly|                  No|            Yes|       4|             3|       Yes|            1|       2|      7|          7|        5|2.15|         2|           1|            4|      No|  Yes|   No|\n",
            "|Mon Jun 28 2021 1...| 21|      Male|    2022|Electromechanical...|   No|          0|          Yes|   On Campus|      Yes|      Hourly|                 Yes|             No|       5|             1|       Yes|            0|       2|      4|          6|       15|3.10|         3|           3|            5|      No|  Yes|  Yes|\n",
            "|Mon Jun 28 2021 1...| 22|    Female|    2021|Mechanical Engine...|  Yes|          0|          Yes|    Commuter|Sometimes|      Hourly|                 Yes|             No|       5|             3|       Yes|            2|       4|      2|         10|        3|3.56|         7|           4|            7|     Yes|  Yes|  Yes|\n",
            "|Mon Jun 28 2021 1...| 20|Non-binary|    2023| Computer Networking|  Yes|          0|          Yes|    Commuter|Sometimes|Not Employed|Haven't had them yet|            Yes|       5|             1|       Yes|            0|       4|      0|          5|       10|3.80|         7|           3|            6|      No|  Yes|  Yes|\n",
            "|Mon Jun 28 2021 1...| 22|      Male|    2021|    Computer Science|   No|          0|          Yes|   On Campus|Sometimes|Not Employed|                 Yes|             No|       4|             2|       Yes|            0|       4|      1|          8|        3|3.60|         7|           2|            8|     Yes|  Yes|  Yes|\n",
            "|Mon Jun 28 2021 1...| 22|      Male|    2021|    Computer Science|  Yes|          3|          Yes|    Commuter|Sometimes|      Hourly|                 Yes|            Yes|       5|             3|       Yes|            1|       3|      0|          1|       10|2.90|         1|           1|            6|     Yes|  Yes|   No|\n",
            "+--------------------+---+----------+--------+--------------------+-----+-----------+-------------+------------+---------+------------+--------------------+---------------+--------+--------------+----------+-------------+--------+-------+-----------+---------+----+----------+------------+-------------+--------+-----+-----+\n",
            "only showing top 20 rows\n",
            "\n"
          ],
          "name": "stdout"
        }
      ]
    },
    {
      "cell_type": "code",
      "metadata": {
        "id": "0DFN9uaU095v",
        "colab": {
          "base_uri": "https://localhost:8080/"
        },
        "outputId": "cbb38f48-d06d-4ddf-8542-8b0af9f0967e"
      },
      "source": [
        "#Clean data by removing false/null entries\n",
        "#Outliers removed in Google Sheets prior, script updated DB and PySpark pulls from DB Table\n",
        "from pyspark.sql.functions import col\n",
        "from pyspark.sql.types import *\n",
        "#Null Entries\n",
        "df2= df2.dropna()\n",
        "dfr = dfr.dropna()\n",
        "\n",
        "#All data types are string. Need to cast correctly\n",
        "df2.printSchema()\n",
        "dfr.printSchema()\n",
        "\n",
        "df2=df2.withColumn(\"freetime\",col(\"freetime\").cast(IntegerType()))\\\n",
        "       .withColumn(\"druguse\",col(\"druguse\").cast(IntegerType()))\\\n",
        "       .withColumn(\"cwentworthr\",col(\"cwentworthr\").cast(IntegerType()))\\\n",
        "       .withColumn(\"classnum\",col(\"classnum\").cast(IntegerType()))\\\n",
        "       .withColumn(\"timeoutfriends\",col(\"timeoutfriends\").cast(IntegerType()))\\\n",
        "       .withColumn(\"withdrawals\",col(\"withdrawals\").cast(IntegerType()))\\\n",
        "       .withColumn(\"GPA\",col(\"GPA\").cast(DoubleType()))\\\n",
        "       .withColumn(\"mentalhealth\",col(\"mentalhealth\").cast(IntegerType()))\\\n",
        "       .withColumn(\"classesfailed\",col(\"classesfailed\").cast(IntegerType()))\\\n",
        "       .withColumn(\"hstudying\",col(\"hstudying\").cast(IntegerType()))\\\n",
        "\n",
        "dfr=dfr.withColumn(\"freetime\",col(\"freetime\").cast(IntegerType()))\\\n",
        "       .withColumn(\"druguse\",col(\"druguse\").cast(IntegerType()))\\\n",
        "       .withColumn(\"cwentworthr\",col(\"cwentworthr\").cast(IntegerType()))\\\n",
        "       .withColumn(\"classnum\",col(\"classnum\").cast(IntegerType()))\\\n",
        "       .withColumn(\"timeoutfriends\",col(\"timeoutfriends\").cast(IntegerType()))\\\n",
        "       .withColumn(\"withdrawals\",col(\"withdrawals\").cast(IntegerType()))\\\n",
        "       .withColumn(\"GPA\",col(\"GPA\").cast(DoubleType()))\\\n",
        "       .withColumn(\"mentalhealth\",col(\"mentalhealth\").cast(IntegerType()))\\\n",
        "       .withColumn(\"classesfailed\",col(\"classesfailed\").cast(IntegerType()))\\\n",
        "       .withColumn(\"hstudying\",col(\"hstudying\").cast(IntegerType()))\\\n",
        "       .withColumn(\"wentresources\",col(\"wentresources\").cast(IntegerType()))\\\n",
        "       .withColumn(\"overallexp\",col(\"overallexp\").cast(IntegerType()))\\\n",
        "\n",
        "\n",
        "df2.printSchema()\n",
        "dfr.printSchema()\n"
      ],
      "execution_count": null,
      "outputs": [
        {
          "output_type": "stream",
          "text": [
            "root\n",
            " |-- timestamp: string (nullable = true)\n",
            " |-- age: string (nullable = true)\n",
            " |-- gender: string (nullable = true)\n",
            " |-- gradyear: string (nullable = true)\n",
            " |-- major: string (nullable = true)\n",
            " |-- minor: string (nullable = true)\n",
            " |-- withdrawals: string (nullable = true)\n",
            " |-- collegechoice: string (nullable = true)\n",
            " |-- campusliving: string (nullable = true)\n",
            " |-- exercise: string (nullable = true)\n",
            " |-- employed: string (nullable = true)\n",
            " |-- coops: string (nullable = true)\n",
            " |-- extracurricular: string (nullable = true)\n",
            " |-- classnum: string (nullable = true)\n",
            " |-- timeoutfriends: string (nullable = true)\n",
            " |-- vaccinated: string (nullable = true)\n",
            " |-- classesfailed: string (nullable = true)\n",
            " |-- freetime: string (nullable = true)\n",
            " |-- druguse: string (nullable = true)\n",
            " |-- cwentworthr: string (nullable = true)\n",
            " |-- hstudying: string (nullable = true)\n",
            " |-- GPA: string (nullable = true)\n",
            " |-- overallexp: string (nullable = true)\n",
            " |-- mentalhealth: string (nullable = true)\n",
            " |-- wentresources: string (nullable = true)\n",
            " |-- firstgen: string (nullable = true)\n",
            " |-- terms: string (nullable = true)\n",
            " |-- sleep: string (nullable = true)\n",
            "\n",
            "root\n",
            " |-- timestamp: string (nullable = true)\n",
            " |-- terms: string (nullable = true)\n",
            " |-- age: string (nullable = true)\n",
            " |-- gender: string (nullable = true)\n",
            " |-- gradyear: string (nullable = true)\n",
            " |-- major: string (nullable = true)\n",
            " |-- minor: string (nullable = true)\n",
            " |-- withdrawals: string (nullable = true)\n",
            " |-- collegechoice: string (nullable = true)\n",
            " |-- firstgen: string (nullable = true)\n",
            " |-- campusliving: string (nullable = true)\n",
            " |-- exercise: string (nullable = true)\n",
            " |-- sleep: string (nullable = true)\n",
            " |-- employed: string (nullable = true)\n",
            " |-- coops: string (nullable = true)\n",
            " |-- extracurricular: string (nullable = true)\n",
            " |-- classnum: string (nullable = true)\n",
            " |-- timeoutfriends: string (nullable = true)\n",
            " |-- vaccinated: string (nullable = true)\n",
            " |-- classesfailed: string (nullable = true)\n",
            " |-- freetime: string (nullable = true)\n",
            " |-- mentalhealth: string (nullable = true)\n",
            " |-- druguse: string (nullable = true)\n",
            " |-- cwentworthr: string (nullable = true)\n",
            " |-- hstudying: string (nullable = true)\n",
            " |-- GPA: string (nullable = true)\n",
            " |-- overallexp: string (nullable = true)\n",
            " |-- wentresources: string (nullable = true)\n",
            "\n",
            "root\n",
            " |-- timestamp: string (nullable = true)\n",
            " |-- age: string (nullable = true)\n",
            " |-- gender: string (nullable = true)\n",
            " |-- gradyear: string (nullable = true)\n",
            " |-- major: string (nullable = true)\n",
            " |-- minor: string (nullable = true)\n",
            " |-- withdrawals: integer (nullable = true)\n",
            " |-- collegechoice: string (nullable = true)\n",
            " |-- campusliving: string (nullable = true)\n",
            " |-- exercise: string (nullable = true)\n",
            " |-- employed: string (nullable = true)\n",
            " |-- coops: string (nullable = true)\n",
            " |-- extracurricular: string (nullable = true)\n",
            " |-- classnum: integer (nullable = true)\n",
            " |-- timeoutfriends: integer (nullable = true)\n",
            " |-- vaccinated: string (nullable = true)\n",
            " |-- classesfailed: integer (nullable = true)\n",
            " |-- freetime: integer (nullable = true)\n",
            " |-- druguse: integer (nullable = true)\n",
            " |-- cwentworthr: integer (nullable = true)\n",
            " |-- hstudying: integer (nullable = true)\n",
            " |-- GPA: double (nullable = true)\n",
            " |-- overallexp: string (nullable = true)\n",
            " |-- mentalhealth: integer (nullable = true)\n",
            " |-- wentresources: string (nullable = true)\n",
            " |-- firstgen: string (nullable = true)\n",
            " |-- terms: string (nullable = true)\n",
            " |-- sleep: string (nullable = true)\n",
            "\n",
            "root\n",
            " |-- timestamp: string (nullable = true)\n",
            " |-- terms: string (nullable = true)\n",
            " |-- age: string (nullable = true)\n",
            " |-- gender: string (nullable = true)\n",
            " |-- gradyear: string (nullable = true)\n",
            " |-- major: string (nullable = true)\n",
            " |-- minor: string (nullable = true)\n",
            " |-- withdrawals: integer (nullable = true)\n",
            " |-- collegechoice: string (nullable = true)\n",
            " |-- firstgen: string (nullable = true)\n",
            " |-- campusliving: string (nullable = true)\n",
            " |-- exercise: string (nullable = true)\n",
            " |-- sleep: string (nullable = true)\n",
            " |-- employed: string (nullable = true)\n",
            " |-- coops: string (nullable = true)\n",
            " |-- extracurricular: string (nullable = true)\n",
            " |-- classnum: integer (nullable = true)\n",
            " |-- timeoutfriends: integer (nullable = true)\n",
            " |-- vaccinated: string (nullable = true)\n",
            " |-- classesfailed: integer (nullable = true)\n",
            " |-- freetime: integer (nullable = true)\n",
            " |-- mentalhealth: integer (nullable = true)\n",
            " |-- druguse: integer (nullable = true)\n",
            " |-- cwentworthr: integer (nullable = true)\n",
            " |-- hstudying: integer (nullable = true)\n",
            " |-- GPA: double (nullable = true)\n",
            " |-- overallexp: integer (nullable = true)\n",
            " |-- wentresources: integer (nullable = true)\n",
            "\n"
          ],
          "name": "stdout"
        }
      ]
    },
    {
      "cell_type": "code",
      "metadata": {
        "colab": {
          "base_uri": "https://localhost:8080/"
        },
        "id": "0VFfCaKxQDoT",
        "outputId": "5a18b05d-2bc5-4bdb-8e9c-4e91a51796f6"
      },
      "source": [
        "dfr.count()"
      ],
      "execution_count": null,
      "outputs": [
        {
          "output_type": "execute_result",
          "data": {
            "text/plain": [
              "337"
            ]
          },
          "metadata": {
            "tags": []
          },
          "execution_count": 7
        }
      ]
    },
    {
      "cell_type": "code",
      "metadata": {
        "colab": {
          "base_uri": "https://localhost:8080/",
          "height": 562
        },
        "id": "cjtERsQr4-xi",
        "outputId": "d7307e64-504c-4dcc-ff9f-80520c7bd588"
      },
      "source": [
        "#Compute Correlation Matrix Heatmap\n",
        "import matplotlib.pyplot as plt\n",
        "import pandas as pd\n",
        "import seaborn as sb\n",
        "\n",
        "plt.figure(figsize = (14, 8))\n",
        "plt.title('Correlation matrix')\n",
        "\n",
        "corrPD=dfr.toPandas()\n",
        "#corrPD=df3.toPandas()\n",
        "dataplot=sb.heatmap(corrPD.corr(),cmap=\"YlGnBu\",annot=True)\n",
        "plt.show()"
      ],
      "execution_count": null,
      "outputs": [
        {
          "output_type": "display_data",
          "data": {
            "image/png": "[encoded data removed]",
            "text/plain": [
              "<Figure size 1008x576 with 2 Axes>"
            ]
          },
          "metadata": {
            "tags": [],
            "needs_background": "light"
          }
        }
      ]
    },
    {
      "cell_type": "code",
      "metadata": {
        "colab": {
          "base_uri": "https://localhost:8080/"
        },
        "id": "-3wmKqsM54wp",
        "outputId": "de1a1efb-bb07-4731-89be-02eab08445de"
      },
      "source": [
        "dfr.printSchema()\n",
        "\n",
        "#V1\n",
        "#dfr = dfr.drop(\"timestamp\",\"age\",\"gender\",\"gradyear\",\"major\",\"minor\",\"collegechoice\",\"exercise\",\"employed\",\"coops\",\\\n",
        "               #\"extracurricular\",\"firstgen\",\"terms\",\"sleep\",\"vaccinated\",\"timeoutfriends\")\n",
        "#V2\n",
        "#dfr = dfr.drop(\"timestamp\",\"age\",\"gender\",\"gradyear\",\"major\",\"minor\",\"collegechoice\",\"exercise\",\"coops\",\\\n",
        "               #\"extracurricular\",\"firstgen\",\"terms\",\"vaccinated\")\n",
        "#V3\n",
        "dfr = dfr.drop(\"timestamp\",\"age\",\"gender\",\"gradyear\",\"major\",\"minor\",\"coops\",\\\n",
        "               \"firstgen\",\"terms\",\"vaccinated\")\n",
        "\n",
        "\n",
        "\n",
        "dfr.printSchema()\n",
        "\n",
        "dfr.describe().show()\n",
        "\n",
        "dfr=dfr.dropna()"
      ],
      "execution_count": null,
      "outputs": [
        {
          "output_type": "stream",
          "text": [
            "root\n",
            " |-- timestamp: string (nullable = true)\n",
            " |-- terms: string (nullable = true)\n",
            " |-- age: string (nullable = true)\n",
            " |-- gender: string (nullable = true)\n",
            " |-- gradyear: string (nullable = true)\n",
            " |-- major: string (nullable = true)\n",
            " |-- minor: string (nullable = true)\n",
            " |-- withdrawals: integer (nullable = true)\n",
            " |-- collegechoice: string (nullable = true)\n",
            " |-- firstgen: string (nullable = true)\n",
            " |-- campusliving: string (nullable = true)\n",
            " |-- exercise: string (nullable = true)\n",
            " |-- sleep: string (nullable = true)\n",
            " |-- employed: string (nullable = true)\n",
            " |-- coops: string (nullable = true)\n",
            " |-- extracurricular: string (nullable = true)\n",
            " |-- classnum: integer (nullable = true)\n",
            " |-- timeoutfriends: integer (nullable = true)\n",
            " |-- vaccinated: string (nullable = true)\n",
            " |-- classesfailed: integer (nullable = true)\n",
            " |-- freetime: integer (nullable = true)\n",
            " |-- mentalhealth: integer (nullable = true)\n",
            " |-- druguse: integer (nullable = true)\n",
            " |-- cwentworthr: integer (nullable = true)\n",
            " |-- hstudying: integer (nullable = true)\n",
            " |-- GPA: double (nullable = true)\n",
            " |-- overallexp: integer (nullable = true)\n",
            " |-- wentresources: integer (nullable = true)\n",
            "\n",
            "root\n",
            " |-- withdrawals: integer (nullable = true)\n",
            " |-- collegechoice: string (nullable = true)\n",
            " |-- campusliving: string (nullable = true)\n",
            " |-- exercise: string (nullable = true)\n",
            " |-- sleep: string (nullable = true)\n",
            " |-- employed: string (nullable = true)\n",
            " |-- extracurricular: string (nullable = true)\n",
            " |-- classnum: integer (nullable = true)\n",
            " |-- timeoutfriends: integer (nullable = true)\n",
            " |-- classesfailed: integer (nullable = true)\n",
            " |-- freetime: integer (nullable = true)\n",
            " |-- mentalhealth: integer (nullable = true)\n",
            " |-- druguse: integer (nullable = true)\n",
            " |-- cwentworthr: integer (nullable = true)\n",
            " |-- hstudying: integer (nullable = true)\n",
            " |-- GPA: double (nullable = true)\n",
            " |-- overallexp: integer (nullable = true)\n",
            " |-- wentresources: integer (nullable = true)\n",
            "\n",
            "+-------+------------------+-------------+------------+--------+-----+--------+---------------+------------------+-----------------+-------------------+------------------+------------------+-----------------+------------------+------------------+-------------------+------------------+------------------+\n",
            "|summary|       withdrawals|collegechoice|campusliving|exercise|sleep|employed|extracurricular|          classnum|   timeoutfriends|      classesfailed|          freetime|      mentalhealth|          druguse|       cwentworthr|         hstudying|                GPA|        overallexp|     wentresources|\n",
            "+-------+------------------+-------------+------------+--------+-----+--------+---------------+------------------+-----------------+-------------------+------------------+------------------+-----------------+------------------+------------------+-------------------+------------------+------------------+\n",
            "|  count|               340|          340|         340|     340|  340|     340|            340|               340|              340|                340|               340|               340|              340|               340|               340|                340|               340|               338|\n",
            "|   mean|0.6176470588235294|         null|        null|    null| null|    null|           null| 4.238235294117647|1.938235294117647|0.38823529411764707| 3.041176470588235| 3.073529411764706|1.785294117647059| 7.129411764705883|15.488235294117647| 3.5854117647058823| 6.470588235294118|6.5266272189349115|\n",
            "| stddev|1.3329211578777524|         null|        null|    null| null|    null|           null|0.5636557380893358|1.356403953432142| 1.2178041813523972|1.0296826692941539|1.0741831838223554|2.104445687978811|2.3299422570946065|12.624244238739227|0.41229354305263416|2.2053206526448994| 2.165456041243191|\n",
            "|    min|                 0|           No|    Commuter|      No|   No|  Hourly|             No|                 2|                0|                  0|                 1|                 1|                0|                 1|                 0|               1.78|                 0|                 1|\n",
            "|    max|                10|          Yes|   On Campus|     Yes|  Yes|  Salary|            Yes|                 5|                7|                 10|                 5|                 5|                7|                10|                60|                4.0|                10|                10|\n",
            "+-------+------------------+-------------+------------+--------+-----+--------+---------------+------------------+-----------------+-------------------+------------------+------------------+-----------------+------------------+------------------+-------------------+------------------+------------------+\n",
            "\n"
          ],
          "name": "stdout"
        }
      ]
    },
    {
      "cell_type": "code",
      "metadata": {
        "colab": {
          "base_uri": "https://localhost:8080/"
        },
        "id": "y7BOiA3IIYQa",
        "outputId": "a3b7a86e-836e-4e90-a434-9a3f874cf151"
      },
      "source": [
        "#Verifying all Categorical Columns\n",
        "cols = dfr.columns\n",
        "cols\n",
        "\n",
        "categoricalColumns = [item[0] for item in dfr.dtypes if item[1].startswith('string')]\n",
        "categoricalColumns\n",
        "\n"
      ],
      "execution_count": null,
      "outputs": [
        {
          "output_type": "execute_result",
          "data": {
            "text/plain": [
              "['collegechoice',\n",
              " 'campusliving',\n",
              " 'exercise',\n",
              " 'sleep',\n",
              " 'employed',\n",
              " 'extracurricular']"
            ]
          },
          "metadata": {
            "tags": []
          },
          "execution_count": 7
        }
      ]
    },
    {
      "cell_type": "code",
      "metadata": {
        "colab": {
          "base_uri": "https://localhost:8080/"
        },
        "id": "12Joe1-cJfpQ",
        "outputId": "d47b44ab-c2f8-486c-8e69-c35429c53ced"
      },
      "source": [
        "#Verifying all Numeric Columns\n",
        "numericColumns = [item[0] for item in dfr.dtypes if item[1].startswith('int')]\n",
        "numericColumns"
      ],
      "execution_count": null,
      "outputs": [
        {
          "output_type": "execute_result",
          "data": {
            "text/plain": [
              "['withdrawals',\n",
              " 'classnum',\n",
              " 'timeoutfriends',\n",
              " 'classesfailed',\n",
              " 'freetime',\n",
              " 'mentalhealth',\n",
              " 'druguse',\n",
              " 'cwentworthr',\n",
              " 'hstudying',\n",
              " 'overallexp',\n",
              " 'wentresources']"
            ]
          },
          "metadata": {
            "tags": []
          },
          "execution_count": 8
        }
      ]
    },
    {
      "cell_type": "code",
      "metadata": {
        "id": "55p1Cqy41BRX"
      },
      "source": [
        "#Prep data by converting necessary categorical values to numerical \n",
        "\n",
        "#StringIndexer converts strings to indexes 0-n with 0 being most frequent occurence\n",
        "#OneHotEncoder maps these label indices to a binary vector\n",
        "#VectorAssembler puts all features into one column vector 'features'\n",
        "from pyspark.ml.feature import StringIndexer, OneHotEncoder, VectorAssembler\n",
        "\n",
        "stages=[]\n",
        "for categoricalCol in categoricalColumns:\n",
        "  stringIndexer= StringIndexer(inputCol= categoricalCol, outputCol= categoricalCol + 'Index')\n",
        "  encoder = OneHotEncoder(inputCols=[stringIndexer.getOutputCol()], outputCols=[categoricalCol + \"classVec\"])\n",
        "  stages +=[stringIndexer, encoder]\n",
        "\n",
        "assemblerInputs = [c + \"classVec\" for c in categoricalColumns] + numericColumns\n",
        "assembler = VectorAssembler(inputCols=assemblerInputs, outputCol=\"features\")\n",
        "stages += [assembler]\n",
        "\n",
        "\n"
      ],
      "execution_count": null,
      "outputs": []
    },
    {
      "cell_type": "code",
      "metadata": {
        "id": "OudHn7IMHUd-",
        "colab": {
          "base_uri": "https://localhost:8080/"
        },
        "outputId": "3f2a0126-0071-4f44-b1d2-2b854f5933b4"
      },
      "source": [
        "#Pipeline which holds stringIndexer, oneHotEncoder, and vectorAssembler to simplify the process.\n",
        "from pyspark.ml import Pipeline\n",
        "pipeline = Pipeline(stages = stages)\n",
        "pipelineModel = pipeline.fit(dfr)\n",
        "dfr = pipelineModel.transform(dfr)\n",
        "selectedCols = ['features'] + cols\n",
        "dfr = dfr.select(selectedCols)\n",
        "dfr.printSchema()"
      ],
      "execution_count": null,
      "outputs": [
        {
          "output_type": "stream",
          "text": [
            "root\n",
            " |-- features: vector (nullable = true)\n",
            " |-- withdrawals: integer (nullable = true)\n",
            " |-- collegechoice: string (nullable = true)\n",
            " |-- campusliving: string (nullable = true)\n",
            " |-- exercise: string (nullable = true)\n",
            " |-- sleep: string (nullable = true)\n",
            " |-- employed: string (nullable = true)\n",
            " |-- extracurricular: string (nullable = true)\n",
            " |-- classnum: integer (nullable = true)\n",
            " |-- timeoutfriends: integer (nullable = true)\n",
            " |-- classesfailed: integer (nullable = true)\n",
            " |-- freetime: integer (nullable = true)\n",
            " |-- mentalhealth: integer (nullable = true)\n",
            " |-- druguse: integer (nullable = true)\n",
            " |-- cwentworthr: integer (nullable = true)\n",
            " |-- hstudying: integer (nullable = true)\n",
            " |-- GPA: double (nullable = true)\n",
            " |-- overallexp: integer (nullable = true)\n",
            " |-- wentresources: integer (nullable = true)\n",
            "\n"
          ],
          "name": "stdout"
        }
      ]
    },
    {
      "cell_type": "code",
      "metadata": {
        "colab": {
          "base_uri": "https://localhost:8080/"
        },
        "id": "jJ3tP1pJKMOg",
        "outputId": "b8e86dcd-c333-4395-9ae7-14966c04adb1"
      },
      "source": [
        "#Prep features/output Dataframe to pass to Linear Regression Model\n",
        "finalDF = dfr.select('features','GPA')\n",
        "finalDF.show(truncate=False)"
      ],
      "execution_count": null,
      "outputs": [
        {
          "output_type": "stream",
          "text": [
            "+-----------------------------------------------------------------------------------+----+\n",
            "|features                                                                           |GPA |\n",
            "+-----------------------------------------------------------------------------------+----+\n",
            "|[1.0,1.0,0.0,1.0,1.0,0.0,1.0,1.0,1.0,4.0,3.0,1.0,4.0,4.0,0.0,6.0,16.0,8.0,7.0]     |3.49|\n",
            "|(19,[0,1,3,9,10,12,13,15,16,17,18],[1.0,1.0,1.0,5.0,2.0,3.0,3.0,10.0,30.0,7.0,7.0])|3.9 |\n",
            "|[1.0,1.0,0.0,0.0,0.0,1.0,0.0,1.0,0.0,4.0,2.0,0.0,4.0,2.0,7.0,6.0,0.0,6.0,4.0]      |3.7 |\n",
            "|[1.0,1.0,0.0,1.0,1.0,1.0,0.0,1.0,2.0,4.0,2.0,0.0,3.0,5.0,0.0,8.0,3.0,7.0,8.0]      |3.83|\n",
            "|[1.0,0.0,1.0,0.0,1.0,0.0,1.0,0.0,4.0,4.0,1.0,3.0,4.0,4.0,7.0,9.0,20.0,9.0,8.0]     |3.5 |\n",
            "|[1.0,0.0,1.0,0.0,1.0,1.0,0.0,0.0,0.0,4.0,2.0,0.0,4.0,4.0,6.0,7.0,25.0,7.0,5.0]     |3.89|\n",
            "|[1.0,1.0,1.0,0.0,0.0,0.0,1.0,1.0,1.0,5.0,4.0,0.0,2.0,3.0,5.0,7.0,6.0,6.0,7.0]      |3.87|\n",
            "|[0.0,1.0,1.0,0.0,1.0,0.0,1.0,1.0,0.0,4.0,2.0,2.0,2.0,1.0,2.0,7.0,12.0,6.0,4.0]     |3.3 |\n",
            "|[1.0,1.0,1.0,0.0,0.0,1.0,0.0,0.0,0.0,4.0,2.0,0.0,4.0,3.0,2.0,7.0,2.0,7.0,6.0]      |3.8 |\n",
            "|[0.0,1.0,1.0,0.0,1.0,1.0,0.0,1.0,0.0,4.0,3.0,0.0,2.0,3.0,1.0,7.0,4.0,2.0,3.0]      |3.92|\n",
            "|[1.0,0.0,1.0,0.0,1.0,0.0,1.0,1.0,1.0,5.0,2.0,1.0,2.0,4.0,2.0,7.0,15.0,7.0,5.0]     |3.84|\n",
            "|[1.0,0.0,1.0,0.0,1.0,1.0,0.0,0.0,1.0,3.0,1.0,0.0,3.0,2.0,1.0,7.0,25.0,7.0,9.0]     |3.95|\n",
            "|[1.0,1.0,1.0,0.0,1.0,0.0,1.0,1.0,1.0,4.0,3.0,0.0,5.0,4.0,2.0,5.0,5.0,7.0,6.0]      |3.86|\n",
            "|[1.0,0.0,1.0,0.0,1.0,1.0,0.0,0.0,0.0,4.0,1.0,0.0,2.0,2.0,1.0,8.0,6.0,7.0,7.0]      |3.2 |\n",
            "|(19,[0,2,9,12,13,14,15,16,17,18],[1.0,1.0,2.0,2.0,2.0,3.0,10.0,10.0,10.0,9.0])     |4.0 |\n",
            "|[1.0,0.0,1.0,0.0,1.0,1.0,0.0,1.0,0.0,5.0,2.0,0.0,4.0,4.0,1.0,7.0,5.0,5.0,4.0]      |3.97|\n",
            "|[1.0,0.0,0.0,1.0,0.0,1.0,0.0,1.0,1.0,4.0,1.0,0.0,2.0,3.0,4.0,5.0,3.0,7.0,5.0]      |3.45|\n",
            "|[1.0,0.0,0.0,1.0,1.0,0.0,1.0,0.0,0.0,4.0,0.0,0.0,4.0,3.0,5.0,8.0,10.0,3.0,6.0]     |3.5 |\n",
            "|[1.0,1.0,1.0,0.0,1.0,0.0,1.0,1.0,1.0,5.0,4.0,2.0,1.0,3.0,7.0,7.0,25.0,8.0,7.0]     |2.8 |\n",
            "|[1.0,0.0,1.0,0.0,0.0,1.0,0.0,1.0,0.0,4.0,1.0,2.0,3.0,2.0,2.0,5.0,15.0,5.0,5.0]     |3.3 |\n",
            "+-----------------------------------------------------------------------------------+----+\n",
            "only showing top 20 rows\n",
            "\n"
          ],
          "name": "stdout"
        }
      ]
    },
    {
      "cell_type": "code",
      "metadata": {
        "id": "5vaL2EElAv-A",
        "colab": {
          "base_uri": "https://localhost:8080/"
        },
        "outputId": "871ff921-147b-4561-8c79-c6755bbe690a"
      },
      "source": [
        "#Split into training/test sets\n",
        "training, test = finalDF.randomSplit([0.6,0.4]) # split 60/40 due to small amount of entries ~350\n",
        "\n",
        "training.show(truncate=False)"
      ],
      "execution_count": null,
      "outputs": [
        {
          "output_type": "stream",
          "text": [
            "+-----------------------------------------------------------------------------------+----+\n",
            "|features                                                                           |GPA |\n",
            "+-----------------------------------------------------------------------------------+----+\n",
            "|(19,[0,1,3,9,10,12,13,15,16,17,18],[1.0,1.0,1.0,5.0,2.0,3.0,3.0,10.0,30.0,7.0,7.0])|3.9 |\n",
            "|(19,[0,1,5,9,12,13,14,15,16,17,18],[1.0,1.0,1.0,5.0,3.0,2.0,7.0,4.0,10.0,6.0,3.0]) |3.55|\n",
            "|(19,[0,1,7,9,10,12,13,15,16,17,18],[1.0,1.0,1.0,4.0,4.0,3.0,4.0,10.0,3.0,8.0,7.0]) |3.5 |\n",
            "|(19,[0,2,4,5,9,12,13,15,16,17,18],[1.0,1.0,1.0,1.0,4.0,4.0,2.0,9.0,50.0,6.0,8.0])  |4.0 |\n",
            "|(19,[0,2,5,9,11,12,13,14,15,16,18],[1.0,1.0,1.0,5.0,2.0,2.0,1.0,2.0,8.0,20.0,1.0]) |2.5 |\n",
            "|(19,[0,2,5,9,12,13,14,15,16,17,18],[1.0,1.0,1.0,5.0,2.0,2.0,3.0,3.0,25.0,4.0,6.0]) |3.0 |\n",
            "|(19,[0,3,5,8,9,12,13,15,16,17,18],[1.0,1.0,1.0,1.0,4.0,2.0,3.0,4.0,14.0,3.0,5.0])  |3.5 |\n",
            "|(19,[0,6,9,10,11,12,13,15,16,17,18],[1.0,1.0,5.0,3.0,3.0,3.0,3.0,6.0,4.0,6.0,4.0]) |2.5 |\n",
            "|(19,[0,8,9,10,12,13,15,16,17,18],[1.0,1.0,4.0,1.0,2.0,4.0,5.0,10.0,5.0,6.0])       |3.7 |\n",
            "|[0.0,0.0,0.0,1.0,0.0,0.0,0.0,0.0,5.0,5.0,5.0,7.0,4.0,2.0,7.0,10.0,3.0,1.0,1.0]     |2.4 |\n",
            "|[1.0,0.0,0.0,0.0,0.0,0.0,0.0,1.0,6.0,4.0,1.0,2.0,4.0,3.0,1.0,5.0,5.0,6.0,5.0]      |2.7 |\n",
            "|[1.0,0.0,0.0,0.0,0.0,0.0,1.0,1.0,0.0,4.0,2.0,0.0,2.0,3.0,2.0,5.0,50.0,6.0,3.0]     |3.8 |\n",
            "|[1.0,0.0,0.0,0.0,0.0,1.0,0.0,1.0,0.0,4.0,1.0,0.0,5.0,4.0,2.0,7.0,8.0,7.0,6.0]      |3.9 |\n",
            "|[1.0,0.0,0.0,0.0,1.0,0.0,1.0,0.0,0.0,4.0,3.0,0.0,4.0,4.0,3.0,5.0,6.0,7.0,7.0]      |3.36|\n",
            "|[1.0,0.0,0.0,0.0,1.0,1.0,0.0,0.0,0.0,5.0,0.0,1.0,2.0,2.0,3.0,5.0,10.0,6.0,8.0]     |3.1 |\n",
            "|[1.0,0.0,0.0,1.0,0.0,0.0,1.0,1.0,0.0,5.0,2.0,0.0,3.0,2.0,0.0,7.0,10.0,7.0,8.0]     |3.8 |\n",
            "|[1.0,0.0,0.0,1.0,0.0,1.0,0.0,1.0,1.0,4.0,1.0,0.0,2.0,3.0,4.0,5.0,3.0,7.0,5.0]      |3.45|\n",
            "|[1.0,0.0,0.0,1.0,0.0,1.0,0.0,1.0,1.0,5.0,2.0,2.0,3.0,1.0,2.0,10.0,10.0,3.0,10.0]   |2.98|\n",
            "|[1.0,0.0,0.0,1.0,1.0,0.0,1.0,0.0,0.0,5.0,2.0,0.0,2.0,4.0,0.0,10.0,60.0,10.0,10.0]  |3.6 |\n",
            "|[1.0,0.0,0.0,1.0,1.0,0.0,1.0,1.0,0.0,4.0,2.0,0.0,4.0,5.0,2.0,8.0,40.0,4.0,8.0]     |3.35|\n",
            "+-----------------------------------------------------------------------------------+----+\n",
            "only showing top 20 rows\n",
            "\n"
          ],
          "name": "stdout"
        }
      ]
    },
    {
      "cell_type": "code",
      "metadata": {
        "id": "l1MfwVM-1Kkw",
        "colab": {
          "base_uri": "https://localhost:8080/"
        },
        "outputId": "f10cddd9-e43b-4bc6-8eaf-2f0f034c3f12"
      },
      "source": [
        "#Linear Regression\n",
        "from pyspark.ml.regression import LinearRegression\n",
        "\n",
        "lm = LinearRegression(labelCol='GPA',featuresCol='features')\n",
        "\n",
        "#Fit the model\n",
        "lrModel = lm.fit(training)\n",
        "\n",
        "# Print the coefficients and intercept for linear regression\n",
        "print(\"Coefficients: %s\" % str(lrModel.coefficients))\n",
        "\n",
        "print(\"*************************************************\")\n",
        "\n",
        "print(\"Intercept: %s\" % str(lrModel.intercept))\n",
        "\n",
        "# Summarize the model over the training set and print out some metrics\n",
        "trainingSummary = lrModel.summary\n",
        "\n",
        "trainingSummary.residuals.show()\n",
        "print(\"RMSE: %f\" % trainingSummary.rootMeanSquaredError)\n",
        "\n",
        "print(\"*************************************************\")\n",
        "\n",
        "print(\"r2: %f\" % trainingSummary.r2)\n",
        "\n",
        "print(\"*************************************************\")\n",
        "\n",
        "print(\"P-Values\")\n",
        "trainingSummary.pValues\n"
      ],
      "execution_count": null,
      "outputs": [
        {
          "output_type": "stream",
          "text": [
            "Coefficients: [-0.003353913645532976,0.05143370126596716,0.04226504384857807,0.014725312672708771,0.043683338391979826,-0.14549769047388725,-0.13864235051020724,0.04979653845695358,-0.08301672044258528,0.046078673091443395,-0.0070654566367992855,-0.14164378122764912,0.039092446350156046,0.01175877411368946,-0.0214279362880106,-0.006635560467309165,0.0021405459947704164,0.02765478171798493,0.010356522898645644]\n",
            "*************************************************\n",
            "Intercept: 3.1720524951175264\n",
            "+--------------------+\n",
            "|           residuals|\n",
            "+--------------------+\n",
            "| 0.03238638352774048|\n",
            "|0.062311231934622846|\n",
            "| -0.3240940698643353|\n",
            "| 0.23056057173774613|\n",
            "| -0.5597424911421638|\n",
            "|  -0.539643165098707|\n",
            "|   0.109142247659884|\n",
            "| -0.6429791472949131|\n",
            "| 0.12320821049359099|\n",
            "|  0.4167770632032357|\n",
            "|-0.27981087443923736|\n",
            "| 0.20851035261790418|\n",
            "|  0.2237138250816817|\n",
            "|-0.26172357074898267|\n",
            "| -0.3300609767915459|\n",
            "| 0.09697238655548635|\n",
            "| 0.02168535052961662|\n",
            "|-0.18544058141666353|\n",
            "|-0.27213752454460227|\n",
            "|-0.35676164908210195|\n",
            "+--------------------+\n",
            "only showing top 20 rows\n",
            "\n",
            "RMSE: 0.284863\n",
            "*************************************************\n",
            "r2: 0.548520\n",
            "*************************************************\n",
            "P-Values\n"
          ],
          "name": "stdout"
        },
        {
          "output_type": "execute_result",
          "data": {
            "text/plain": [
              "[0.9864099851228261,\n",
              " 0.2971025696267855,\n",
              " 0.5036901482313967,\n",
              " 0.8235541473661117,\n",
              " 0.3743459866186196,\n",
              " 0.1201458537678417,\n",
              " 0.14968255756647042,\n",
              " 0.31183271980378247,\n",
              " 0.00020913627054297557,\n",
              " 0.3098685874746403,\n",
              " 0.714942743880919,\n",
              " 3.867706859228548e-07,\n",
              " 0.10653351610949224,\n",
              " 0.6173244970138316,\n",
              " 0.06396846022960001,\n",
              " 0.5021327673586922,\n",
              " 0.25126102791820926,\n",
              " 0.046429031928494124,\n",
              " 0.4231655535444383,\n",
              " 0.0]"
            ]
          },
          "metadata": {
            "tags": []
          },
          "execution_count": 14
        }
      ]
    },
    {
      "cell_type": "code",
      "metadata": {
        "colab": {
          "base_uri": "https://localhost:8080/"
        },
        "id": "-Rzk4OKXcIyK",
        "outputId": "6349c681-4a0a-4724-97b4-84a41272e110"
      },
      "source": [
        "#Measure the models efficiency over the testing set and evaluate compared to the training set\n",
        "lrPredictions= lrModel.transform(test)\n",
        "lrPredictions.select(\"prediction\",\"GPA\",\"features\").show(20, truncate=False)\n",
        "\n",
        "from pyspark.ml.evaluation import RegressionEvaluator\n",
        "lrEvaluator=RegressionEvaluator(predictionCol=\"prediction\", \\\n",
        "                                labelCol=\"GPA\", metricName=\"r2\")\n",
        "\n",
        "print(\"R Squared (R2) on test set = %g\" % lrEvaluator.evaluate(lrPredictions))"
      ],
      "execution_count": null,
      "outputs": [
        {
          "output_type": "stream",
          "text": [
            "+------------------+----+------------------------------------------------------------------------------------+\n",
            "|prediction        |GPA |features                                                                            |\n",
            "+------------------+----+------------------------------------------------------------------------------------+\n",
            "|3.8997083434299826|4.0 |(19,[0,1,2,9,10,12,13,15,16,17,18],[1.0,1.0,1.0,4.0,1.0,3.0,3.0,10.0,10.0,9.0,10.0])|\n",
            "|3.69520044283393  |4.0 |(19,[0,1,3,6,9,12,13,15,16,17,18],[1.0,1.0,1.0,1.0,5.0,4.0,4.0,7.0,2.0,6.0,4.0])    |\n",
            "|3.419260006841021 |3.3 |(19,[0,2,5,9,11,12,13,15,16,17,18],[1.0,1.0,1.0,3.0,1.0,2.0,2.0,7.0,20.0,6.0,9.0])  |\n",
            "|3.66534598210939  |4.0 |(19,[0,2,9,12,13,14,15,16,17,18],[1.0,1.0,2.0,2.0,2.0,3.0,10.0,10.0,10.0,9.0])      |\n",
            "|3.6072224384056786|2.92|(19,[0,3,6,8,9,12,13,15,16,17,18],[1.0,1.0,1.0,1.0,4.0,4.0,3.0,10.0,10.0,8.0,9.0])  |\n",
            "|3.824571685887923 |4.0 |(19,[0,3,9,10,12,13,14,15,17,18],[1.0,1.0,4.0,1.0,5.0,3.0,5.0,6.0,10.0,10.0])       |\n",
            "|3.3482443347546487|2.5 |(19,[0,8,9,11,12,13,15,16,17,18],[1.0,2.0,4.0,1.0,2.0,3.0,8.0,10.0,5.0,8.0])        |\n",
            "|2.7179146765594036|2.75|(19,[0,9,10,11,12,13,14,15,16,17,18],[1.0,2.0,2.0,5.0,3.0,3.0,3.0,1.0,15.0,2.0,1.0])|\n",
            "|3.6576965700199424|3.9 |(19,[6,9,12,13,15,16,17,18],[1.0,5.0,5.0,4.0,9.0,5.0,5.0,6.0])                      |\n",
            "|3.3393326386325257|4.0 |[0.0,0.0,0.0,1.0,1.0,1.0,0.0,0.0,3.0,4.0,4.0,0.0,5.0,3.0,4.0,1.0,4.0,5.0,6.0]       |\n",
            "|3.55602778131081  |3.7 |[0.0,1.0,0.0,1.0,0.0,1.0,0.0,1.0,0.0,4.0,0.0,0.0,3.0,2.0,1.0,8.0,18.0,3.0,4.0]      |\n",
            "|3.341165188014228 |3.3 |[0.0,1.0,1.0,0.0,1.0,0.0,1.0,1.0,0.0,4.0,2.0,2.0,2.0,1.0,2.0,7.0,12.0,6.0,4.0]      |\n",
            "|3.517377420655688 |3.92|[0.0,1.0,1.0,0.0,1.0,1.0,0.0,1.0,0.0,4.0,3.0,0.0,2.0,3.0,1.0,7.0,4.0,2.0,3.0]       |\n",
            "|3.7484096355673016|3.92|[0.0,1.0,1.0,0.0,1.0,1.0,0.0,1.0,0.0,4.0,3.0,0.0,3.0,3.0,3.0,8.0,7.0,9.0,7.0]       |\n",
            "|3.21701378663182  |3.3 |[1.0,0.0,0.0,0.0,0.0,0.0,1.0,0.0,0.0,4.0,5.0,1.0,3.0,2.0,7.0,5.0,2.0,6.0,5.0]       |\n",
            "|3.2262392064960417|3.0 |[1.0,0.0,0.0,0.0,0.0,1.0,0.0,1.0,0.0,4.0,1.0,1.0,2.0,2.0,1.0,9.0,5.0,2.0,3.0]       |\n",
            "|3.6314948182875093|3.83|[1.0,0.0,0.0,0.0,1.0,0.0,1.0,1.0,0.0,4.0,3.0,0.0,4.0,1.0,3.0,8.0,5.0,8.0,6.0]       |\n",
            "|2.949619928761404 |3.25|[1.0,0.0,0.0,0.0,1.0,1.0,0.0,0.0,2.0,5.0,0.0,2.0,2.0,1.0,2.0,1.0,6.0,1.0,2.0]       |\n",
            "|3.6392868579551108|3.26|[1.0,0.0,0.0,0.0,1.0,1.0,0.0,1.0,1.0,4.0,0.0,0.0,2.0,4.0,0.0,9.0,50.0,6.0,8.0]      |\n",
            "|3.630864243964824 |3.65|[1.0,0.0,0.0,1.0,0.0,0.0,0.0,1.0,2.0,5.0,3.0,0.0,2.0,2.0,1.0,8.0,6.0,8.0,9.0]       |\n",
            "+------------------+----+------------------------------------------------------------------------------------+\n",
            "only showing top 20 rows\n",
            "\n",
            "R Squared (R2) on test set = 0.374988\n"
          ],
          "name": "stdout"
        }
      ]
    },
    {
      "cell_type": "code",
      "metadata": {
        "colab": {
          "base_uri": "https://localhost:8080/"
        },
        "id": "f5iptR6ggf3O",
        "outputId": "fc7bcd46-396f-40f4-e7d2-37051f279d00"
      },
      "source": [
        "from pyspark.ml.regression import DecisionTreeRegressor\n",
        "\n",
        "train_b = training.select('features', training.GPA.alias('label'))\n",
        "\n",
        "\n",
        "dt = DecisionTreeRegressor()\n",
        "model = dt.fit(train_b)\n",
        "testDt=model.transform(test)\n",
        "\n",
        "testDt=testDt.select('features', 'prediction',testDt.GPA.alias('label'))\n",
        "testDt.show(truncate=False)"
      ],
      "execution_count": null,
      "outputs": [
        {
          "output_type": "stream",
          "text": [
            "+------------------------------------------------------------------------------------+------------------+-----+\n",
            "|features                                                                            |prediction        |label|\n",
            "+------------------------------------------------------------------------------------+------------------+-----+\n",
            "|(19,[0,1,2,9,10,12,13,15,16,17,18],[1.0,1.0,1.0,4.0,1.0,3.0,3.0,10.0,10.0,9.0,10.0])|3.788372093023256 |4.0  |\n",
            "|(19,[0,1,3,6,9,12,13,15,16,17,18],[1.0,1.0,1.0,1.0,5.0,4.0,4.0,7.0,2.0,6.0,4.0])    |3.677142857142857 |4.0  |\n",
            "|(19,[0,2,5,9,11,12,13,15,16,17,18],[1.0,1.0,1.0,3.0,1.0,2.0,2.0,7.0,20.0,6.0,9.0])  |3.788372093023256 |3.3  |\n",
            "|(19,[0,2,9,12,13,14,15,16,17,18],[1.0,1.0,2.0,2.0,2.0,3.0,10.0,10.0,10.0,9.0])      |3.0199999999999996|4.0  |\n",
            "|(19,[0,3,6,8,9,12,13,15,16,17,18],[1.0,1.0,1.0,1.0,4.0,4.0,3.0,10.0,10.0,8.0,9.0])  |3.788372093023256 |2.92 |\n",
            "|(19,[0,3,9,10,12,13,14,15,17,18],[1.0,1.0,4.0,1.0,5.0,3.0,5.0,6.0,10.0,10.0])       |3.7010344827586206|4.0  |\n",
            "|(19,[0,8,9,11,12,13,15,16,17,18],[1.0,2.0,4.0,1.0,2.0,3.0,8.0,10.0,5.0,8.0])        |2.3               |2.5  |\n",
            "|(19,[0,9,10,11,12,13,14,15,16,17,18],[1.0,2.0,2.0,5.0,3.0,3.0,3.0,1.0,15.0,2.0,1.0])|2.45              |2.75 |\n",
            "|(19,[6,9,12,13,15,16,17,18],[1.0,5.0,5.0,4.0,9.0,5.0,5.0,6.0])                      |3.677142857142857 |3.9  |\n",
            "|[0.0,0.0,0.0,1.0,1.0,1.0,0.0,0.0,3.0,4.0,4.0,0.0,5.0,3.0,4.0,1.0,4.0,5.0,6.0]       |3.0               |4.0  |\n",
            "|[0.0,1.0,0.0,1.0,0.0,1.0,0.0,1.0,0.0,4.0,0.0,0.0,3.0,2.0,1.0,8.0,18.0,3.0,4.0]      |3.788372093023256 |3.7  |\n",
            "|[0.0,1.0,1.0,0.0,1.0,0.0,1.0,1.0,0.0,4.0,2.0,2.0,2.0,1.0,2.0,7.0,12.0,6.0,4.0]      |3.4000000000000004|3.3  |\n",
            "|[0.0,1.0,1.0,0.0,1.0,1.0,0.0,1.0,0.0,4.0,3.0,0.0,2.0,3.0,1.0,7.0,4.0,2.0,3.0]       |3.677142857142857 |3.92 |\n",
            "|[0.0,1.0,1.0,0.0,1.0,1.0,0.0,1.0,0.0,4.0,3.0,0.0,3.0,3.0,3.0,8.0,7.0,9.0,7.0]       |3.7010344827586206|3.92 |\n",
            "|[1.0,0.0,0.0,0.0,0.0,0.0,1.0,0.0,0.0,4.0,5.0,1.0,3.0,2.0,7.0,5.0,2.0,6.0,5.0]       |3.4845454545454544|3.3  |\n",
            "|[1.0,0.0,0.0,0.0,0.0,1.0,0.0,1.0,0.0,4.0,1.0,1.0,2.0,2.0,1.0,9.0,5.0,2.0,3.0]       |3.677142857142857 |3.0  |\n",
            "|[1.0,0.0,0.0,0.0,1.0,0.0,1.0,1.0,0.0,4.0,3.0,0.0,4.0,1.0,3.0,8.0,5.0,8.0,6.0]       |3.4845454545454544|3.83 |\n",
            "|[1.0,0.0,0.0,0.0,1.0,1.0,0.0,0.0,2.0,5.0,0.0,2.0,2.0,1.0,2.0,1.0,6.0,1.0,2.0]       |2.4               |3.25 |\n",
            "|[1.0,0.0,0.0,0.0,1.0,1.0,0.0,1.0,1.0,4.0,0.0,0.0,2.0,4.0,0.0,9.0,50.0,6.0,8.0]      |3.788372093023256 |3.26 |\n",
            "|[1.0,0.0,0.0,1.0,0.0,0.0,0.0,1.0,2.0,5.0,3.0,0.0,2.0,2.0,1.0,8.0,6.0,8.0,9.0]       |3.4500000000000006|3.65 |\n",
            "+------------------------------------------------------------------------------------+------------------+-----+\n",
            "only showing top 20 rows\n",
            "\n"
          ],
          "name": "stdout"
        }
      ]
    },
    {
      "cell_type": "code",
      "metadata": {
        "colab": {
          "base_uri": "https://localhost:8080/"
        },
        "id": "09Cbr8b-id7A",
        "outputId": "78d5d4a9-d11e-4bd3-a490-82d8555c8dc7"
      },
      "source": [
        "#Evaluate the models performance\n",
        "evaluator = RegressionEvaluator()\n",
        "\n",
        "print(\"R2:\")\n",
        "print(evaluator.evaluate(testDt,\n",
        "{evaluator.metricName: \"r2\"})\n",
        ")\n",
        "\n",
        "print(\" \")\n",
        "print(\"MSE:\")\n",
        "print(evaluator.evaluate(testDt,\n",
        "{evaluator.metricName: \"mse\"})\n",
        ")\n",
        "\n",
        "print(\" \")\n",
        "print(\"RMSE:\")\n",
        "print(evaluator.evaluate(testDt,\n",
        "{evaluator.metricName: \"rmse\"})\n",
        ")\n",
        "\n",
        "#Regression Tree performs worse than the Linear Regression Model"
      ],
      "execution_count": null,
      "outputs": [
        {
          "output_type": "stream",
          "text": [
            "R2:\n",
            "-0.10301341918030715\n",
            " \n",
            "MSE:\n",
            "0.17159491971324062\n",
            " \n",
            "RMSE:\n",
            "0.4142401715348725\n"
          ],
          "name": "stdout"
        }
      ]
    }
  ]
}